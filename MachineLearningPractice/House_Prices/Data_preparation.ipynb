{
 "cells": [
  {
   "cell_type": "markdown",
   "metadata": {},
   "source": [
    "#### A Notebook to get prepared data easily"
   ]
  },
  {
   "cell_type": "markdown",
   "metadata": {},
   "source": [
    "Credits to this awesome exploration [*Notebook*](https://www.kaggle.com/code/pmarcelino/comprehensive-data-exploration-with-python)"
   ]
  },
  {
   "cell_type": "code",
   "execution_count": 1,
   "metadata": {},
   "outputs": [],
   "source": [
    "import pandas as pd\n",
    "import numpy as np\n",
    "import seaborn as sns\n",
    "import matplotlib.pyplot as plt\n",
    "from scipy.stats import norm\n",
    "from sklearn.preprocessing import StandardScaler\n",
    "from scipy import stats\n",
    "import warnings\n",
    "warnings.filterwarnings('ignore')\n",
    "\n",
    "%matplotlib inline"
   ]
  },
  {
   "cell_type": "code",
   "execution_count": 3,
   "metadata": {},
   "outputs": [],
   "source": [
    "\n",
    "def get_data(train_path,test_path):\n",
    "\n",
    "    train = pd.read_csv(train_path)\n",
    "    test = pd.read_csv(test_path)\n",
    "    return train, test\n",
    "\n",
    "\n",
    "def clean_data(train_path,test_path):\n",
    "    train , test = get_data(train_path,test_path)\n",
    "\n",
    "    #missing data\n",
    "    total = train.isnull().sum().sort_values(ascending=False)\n",
    "    percent = (train.isnull().sum()/train.isnull().count()).sort_values(ascending=False)\n",
    "    missing_data = pd.concat([total, percent], axis=1, keys=['Total', 'Percent'])\n",
    "\n",
    "    train = train.drop((missing_data[missing_data['Total'] > 1]).index,1)\n",
    "    train = train.drop(train.loc[train['Electrical'].isnull()].index)\n",
    "\n",
    "    # the same procedure for the test data\n",
    "    test_missing_data = missing_data.iloc[:-1,:]\n",
    "    test = test.drop((test_missing_data[test_missing_data['Total'] > 1]).index,1)\n",
    "\n",
    "    total = test.isnull().sum().sort_values(ascending=False)\n",
    "    percent = (test.isnull().sum()/test.isnull().count()).sort_values(ascending=False)\n",
    "    missing_data = pd.concat([total, percent], axis=1, keys=['Total', 'Percent'])\n",
    "\n",
    "    for i in missing_data.index:\n",
    "        if missing_data['Total'][missing_data.index == i][0]>0 :\n",
    "            if test[i].dtype == 'int64' or test[i].dtype == 'float64':\n",
    "                test[i].fillna(value=test[i].mean(), inplace=True)\n",
    "            else :\n",
    "                test[i].fillna(value=test[i].value_counts().index[0], inplace=True)\n",
    "\n",
    "    train = train.drop(train.index[(train['Id'] == 1299) | (train[\"Id\"] == 524)])         \n",
    "\n",
    "    # applying log transformation\n",
    "\n",
    "    train['SalePrice'] = np.log(train['SalePrice'])\n",
    "    train['GrLivArea'] = np.log(train['GrLivArea'])\n",
    "    test['GrLivArea'] = np.log(test['GrLivArea'])\n",
    "\n",
    "    # we want to create a new column for a categorical value of having or not havong a basement\n",
    "    train['HasBsmt'] = pd.Series(len(train['TotalBsmtSF']),index = train.index)\n",
    "    train['HasBsmt'] = 0\n",
    "    train.loc[train['TotalBsmtSF'] >0, 'HasBsmt'] = 1 \n",
    "\n",
    "    test['HasBsmt'] = pd.Series(len(test['TotalBsmtSF']),index = test.index)\n",
    "    test['HasBsmt'] = 0\n",
    "    test.loc[test['TotalBsmtSF'] >0, 'HasBsmt'] = 1 \n",
    "\n",
    "    test.loc[test['HasBsmt'] == 1, 'TotalBsmtSF'] = np.log(test['TotalBsmtSF'])\n",
    "    train.loc[train['HasBsmt'] == 1, 'TotalBsmtSF'] = np.log(train['TotalBsmtSF'])\n",
    "\n",
    "    #convert categorical variable into dummy\n",
    "    train = pd.get_dummies(train)\n",
    "    test = pd.get_dummies(test)\n",
    "\n",
    "    X_train = train.drop(['SalePrice'],axis=1)\n",
    "    y = train.SalePrice\n",
    "    X_test = test\n",
    "\n",
    "    # Get missing columns in the training test\n",
    "    missing_cols = set( X_train.columns ) - set( X_test.columns )\n",
    "    # Add a missing column in test set with default value equal to 0\n",
    "    for c in missing_cols:\n",
    "        X_test[c] = 0\n",
    "    # Ensure the order of column in the test set is in the same order than in train set\n",
    "    X_test = X_test[X_train.columns]\n",
    "\n",
    "    return X_train,y,X_test"
   ]
  },
  {
   "cell_type": "code",
   "execution_count": null,
   "metadata": {},
   "outputs": [],
   "source": []
  }
 ],
 "metadata": {
  "kernelspec": {
   "display_name": "Python 3 (ipykernel)",
   "language": "python",
   "name": "python3"
  },
  "language_info": {
   "codemirror_mode": {
    "name": "ipython",
    "version": 3
   },
   "file_extension": ".py",
   "mimetype": "text/x-python",
   "name": "python",
   "nbconvert_exporter": "python",
   "pygments_lexer": "ipython3",
   "version": "3.10.2"
  },
  "vscode": {
   "interpreter": {
    "hash": "3b804634e3a29247e34b72fd40542cddd071d4ff6c88bfcd331a6b6ee5f58323"
   }
  }
 },
 "nbformat": 4,
 "nbformat_minor": 2
}
